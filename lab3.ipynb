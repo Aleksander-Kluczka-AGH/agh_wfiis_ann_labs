{
  "nbformat": 4,
  "nbformat_minor": 0,
  "metadata": {
    "colab": {
      "provenance": []
    },
    "kernelspec": {
      "name": "python3",
      "display_name": "Python 3"
    },
    "language_info": {
      "name": "python"
    },
    "accelerator": "GPU",
    "gpuClass": "standard"
  },
  "cells": [
    {
      "cell_type": "markdown",
      "source": [
        "# Zadanie 1"
      ],
      "metadata": {
        "id": "KUyHiDwgX87z"
      }
    },
    {
      "cell_type": "code",
      "execution_count": null,
      "metadata": {
        "id": "knC2bBmVTzA7"
      },
      "outputs": [],
      "source": [
        "import numpy as np\n",
        "from keras.models import Sequential\n",
        "from keras.layers import SimpleRNN, Dense"
      ]
    },
    {
      "cell_type": "code",
      "source": [
        "# dane treningowe\n",
        "timesteps = 50\n",
        "data = np.tan(np.arange(timesteps))"
      ],
      "metadata": {
        "id": "QEHcva9SWrht"
      },
      "execution_count": null,
      "outputs": []
    },
    {
      "cell_type": "code",
      "source": [
        "def prepare_data(data, timesteps):\n",
        "    X, y = [], []\n",
        "    for i in range(len(data)-timesteps-1):\n",
        "        X.append(data[i:(i+timesteps)])\n",
        "        y.append(data[i+timesteps])\n",
        "    return np.array(X), np.array(y)\n",
        "\n",
        "X, y = prepare_data(data, 10)\n",
        "\n",
        "train_size = int(len(X) * 0.8)\n",
        "X_train, X_test = X[:train_size], X[train_size:]\n",
        "y_train, y_test = y[:train_size], y[train_size:]\n"
      ],
      "metadata": {
        "id": "Jtn0ggBMWtnC"
      },
      "execution_count": null,
      "outputs": []
    },
    {
      "cell_type": "code",
      "source": [
        "model = Sequential()\n",
        "model.add(SimpleRNN(32, input_shape=(X_train.shape[1], 1)))\n",
        "model.add(Dense(1, activation='linear'))\n",
        "model.compile(optimizer='adam', loss='mse')"
      ],
      "metadata": {
        "id": "YjV4bXePW2jK"
      },
      "execution_count": null,
      "outputs": []
    },
    {
      "cell_type": "code",
      "source": [
        "model.fit(X_train, y_train, epochs=5, batch_size=16)\n"
      ],
      "metadata": {
        "colab": {
          "base_uri": "https://localhost:8080/"
        },
        "id": "OIewZH8UW5a1",
        "outputId": "4ad4445b-94f9-4ddb-b5b8-e76a0ef5f856"
      },
      "execution_count": null,
      "outputs": [
        {
          "output_type": "stream",
          "name": "stdout",
          "text": [
            "Epoch 1/5\n",
            "2/2 [==============================] - 1s 14ms/step - loss: 1835.8081\n",
            "Epoch 2/5\n",
            "2/2 [==============================] - 0s 11ms/step - loss: 1828.7927\n",
            "Epoch 3/5\n",
            "2/2 [==============================] - 0s 14ms/step - loss: 1825.6913\n",
            "Epoch 4/5\n",
            "2/2 [==============================] - 0s 11ms/step - loss: 1819.8297\n",
            "Epoch 5/5\n",
            "2/2 [==============================] - 0s 13ms/step - loss: 1815.1913\n"
          ]
        },
        {
          "output_type": "execute_result",
          "data": {
            "text/plain": [
              "<keras.callbacks.History at 0x7f399122b520>"
            ]
          },
          "metadata": {},
          "execution_count": 19
        }
      ]
    },
    {
      "cell_type": "code",
      "source": [
        "loss = model.evaluate(X_test, y_test)\n",
        "print(f\"Loss: {loss}\")"
      ],
      "metadata": {
        "colab": {
          "base_uri": "https://localhost:8080/"
        },
        "id": "qnMbbw3WW_wf",
        "outputId": "dee6c31e-3314-41b0-d1ba-708aef48d67a"
      },
      "execution_count": null,
      "outputs": [
        {
          "output_type": "stream",
          "name": "stdout",
          "text": [
            "1/1 [==============================] - 0s 172ms/step - loss: 1.3725\n",
            "Loss: 1.3724638223648071\n"
          ]
        }
      ]
    },
    {
      "cell_type": "code",
      "source": [
        "predictions = model.predict(X_test)"
      ],
      "metadata": {
        "colab": {
          "base_uri": "https://localhost:8080/"
        },
        "id": "hjrvi-EJXCKi",
        "outputId": "5083943a-b790-41ef-9cbf-f3f978baf089"
      },
      "execution_count": null,
      "outputs": [
        {
          "output_type": "stream",
          "name": "stdout",
          "text": [
            "1/1 [==============================] - 0s 136ms/step\n"
          ]
        }
      ]
    },
    {
      "cell_type": "code",
      "source": [
        "import matplotlib.pyplot as plt\n",
        "\n",
        "# narysuj dane testowe\n",
        "plt.plot(y_test, label='True values')\n",
        "\n",
        "# narysuj przewidywane wartości\n",
        "plt.plot(predictions, label='Predictions')\n",
        "\n",
        "plt.title('Predictions vs True values')\n",
        "plt.legend()\n",
        "plt.show()\n"
      ],
      "metadata": {
        "colab": {
          "base_uri": "https://localhost:8080/",
          "height": 281
        },
        "id": "oH2NzOWdXFiR",
        "outputId": "aafae081-6e9f-45ae-98d2-64da5b974357"
      },
      "execution_count": null,
      "outputs": [
        {
          "output_type": "display_data",
          "data": {
            "text/plain": [
              "<Figure size 432x288 with 1 Axes>"
            ],
            "image/png": "[encoded data removed]"
          },
          "metadata": {
            "needs_background": "light"
          }
        }
      ]
    },
    {
      "cell_type": "markdown",
      "source": [
        "# Zadanie 2"
      ],
      "metadata": {
        "id": "f3beFF1zYAOE"
      }
    },
    {
      "cell_type": "code",
      "source": [
        "import tensorflow as tf\n",
        "\n",
        "import numpy as np\n",
        "import os\n",
        "import time"
      ],
      "metadata": {
        "id": "i3b82SQJYByG"
      },
      "execution_count": null,
      "outputs": []
    },
    {
      "cell_type": "code",
      "source": [
        "path_to_file = tf.keras.utils.get_file('/content/shakespeare.txt', 'https://storage.googleapis.com/download.tensorflow.org/data/shakespeare.txt')"
      ],
      "metadata": {
        "colab": {
          "base_uri": "https://localhost:8080/"
        },
        "id": "_7N2tZYRYjB2",
        "outputId": "b9bf1b4b-f13b-4c28-b5d2-84b8b9231512"
      },
      "execution_count": null,
      "outputs": [
        {
          "output_type": "stream",
          "name": "stdout",
          "text": [
            "Downloading data from https://storage.googleapis.com/download.tensorflow.org/data/shakespeare.txt\n",
            "1115394/1115394 [==============================] - 0s 0us/step\n"
          ]
        }
      ]
    },
    {
      "cell_type": "code",
      "source": [
        "import numpy as np\n",
        "from keras.models import Sequential\n",
        "from keras.layers import Dense, SimpleRNN, Activation\n",
        "from keras.optimizers import RMSprop\n",
        "\n",
        "# Wczytanie danych tekstowych\n",
        "with open('shakespeare.txt', 'r') as f:\n",
        "    text = f.read().lower()\n",
        "print('Długość tekstu:', len(text))\n",
        "\n",
        "# Tworzenie słownika znaków\n",
        "chars = sorted(list(set(text)))\n",
        "char_indices = dict((c, i) for i, c in enumerate(chars))\n",
        "indices_char = dict((i, c) for i, c in enumerate(chars))\n",
        "\n",
        "# Przygotowanie sekwencji danych wejściowych i wyjściowych\n",
        "maxlen = 40\n",
        "step = 3\n",
        "sentences = []\n",
        "next_chars = []\n",
        "for i in range(0, len(text) - maxlen, step):\n",
        "    sentences.append(text[i:i + maxlen])\n",
        "    next_chars.append(text[i + maxlen])\n",
        "print('Liczba sekwencji:', len(sentences))\n",
        "\n",
        "# Przygotowanie danych wejściowych i wyjściowych\n",
        "x = np.zeros((len(sentences), maxlen, len(chars)), dtype=bool)\n",
        "y = np.zeros((len(sentences), len(chars)), dtype=bool)\n",
        "for i, sentence in enumerate(sentences):\n",
        "    for t, char in enumerate(sentence):\n",
        "        x[i, t, char_indices[char]] = 1\n",
        "    y[i, char_indices[next_chars[i]]] = 1"
      ],
      "metadata": {
        "colab": {
          "base_uri": "https://localhost:8080/"
        },
        "id": "pBBsF_u1YktP",
        "outputId": "f4ec5b1e-d71c-4771-c4c4-1d8c0481f252"
      },
      "execution_count": null,
      "outputs": [
        {
          "output_type": "stream",
          "name": "stdout",
          "text": [
            "Długość tekstu: 1115394\n",
            "Liczba sekwencji: 371785\n"
          ]
        }
      ]
    },
    {
      "cell_type": "code",
      "source": [
        "# Definicja modelu sieci rekurencyjnej\n",
        "model = Sequential()\n",
        "model.add(SimpleRNN(128, input_shape=(maxlen, len(chars))))\n",
        "model.add(Dense(len(chars)))\n",
        "model.add(Activation('softmax'))\n",
        "\n",
        "# Kompilacja modelu\n",
        "optimizer = RMSprop(lr=0.01)\n",
        "model.compile(loss='categorical_crossentropy', optimizer=optimizer)\n",
        "\n",
        "# Nauczanie modelu\n",
        "model.fit(x, y, batch_size=128, epochs=5)"
      ],
      "metadata": {
        "colab": {
          "base_uri": "https://localhost:8080/"
        },
        "id": "yy-pnk6-YwxF",
        "outputId": "f467d0e2-08e6-417b-fe7f-8bbb035a70e1"
      },
      "execution_count": null,
      "outputs": [
        {
          "output_type": "stream",
          "name": "stdout",
          "text": [
            "Epoch 1/5\n",
            "2905/2905 [==============================] - 84s 29ms/step - loss: 2.6879\n",
            "Epoch 2/5\n",
            "2905/2905 [==============================] - 81s 28ms/step - loss: 2.6137\n",
            "Epoch 3/5\n",
            "2905/2905 [==============================] - 84s 29ms/step - loss: 2.6420\n",
            "Epoch 4/5\n",
            "2905/2905 [==============================] - 83s 29ms/step - loss: 2.6148\n",
            "Epoch 5/5\n",
            "2905/2905 [==============================] - 81s 28ms/step - loss: 2.5595\n"
          ]
        },
        {
          "output_type": "execute_result",
          "data": {
            "text/plain": [
              "<keras.callbacks.History at 0x7f395c676220>"
            ]
          },
          "metadata": {},
          "execution_count": 28
        }
      ]
    },
    {
      "cell_type": "code",
      "source": [
        "# Generowanie tekstu\n",
        "start_index = np.random.randint(0, len(text) - maxlen - 1)\n",
        "generated_text = text[start_index:start_index + maxlen]\n",
        "print('--- Początek generowanego tekstu: \"' + generated_text + '\"')\n",
        "\n",
        "for i in range(400):\n",
        "    x_pred = np.zeros((1, maxlen, len(chars)))\n",
        "    for t, char in enumerate(generated_text):\n",
        "        x_pred[0, t, char_indices[char]] = 1\n",
        "    preds = model.predict(x_pred, verbose=0)[0]\n",
        "    next_index = np.argmax(preds)\n",
        "    next_char = indices_char[next_index]\n",
        "    generated_text += next_char\n",
        "    generated_text = generated_text[1:]\n",
        "\n",
        "print('--- Wygenerowany tekst: \"' + generated_text + '\"')"
      ],
      "metadata": {
        "colab": {
          "base_uri": "https://localhost:8080/"
        },
        "id": "zZtK6YP5a-ZO",
        "outputId": "63f22ed0-126e-4b8f-f1f1-c66131705a39"
      },
      "execution_count": null,
      "outputs": [
        {
          "output_type": "stream",
          "name": "stdout",
          "text": [
            "--- Początek generowanego tekstu: \" merry words.\n",
            "\n",
            "queen elizabeth:\n",
            "if he we\"\n",
            "--- Wygenerowany tekst: \"s troes he the to tho there the there th\"\n"
          ]
        }
      ]
    },
    {
      "cell_type": "markdown",
      "source": [
        "# Zadanie 3"
      ],
      "metadata": {
        "id": "z_b1Cqhwb1WZ"
      }
    },
    {
      "cell_type": "code",
      "source": [
        "import numpy as np\n",
        "from keras.datasets import imdb\n",
        "from keras.models import Sequential\n",
        "from keras.layers import Dense, SimpleRNN, Embedding\n",
        "from tensorflow.keras.preprocessing.sequence import pad_sequences\n",
        "\n",
        "# ustalenie hiperparametrów\n",
        "max_features = 10000  # maksymalna liczba słów\n",
        "maxlen = 100  # maksymalna długość sekwencji słów\n",
        "batch_size = 32\n",
        "embedding_dims = 50  # liczba wymiarów przestrzeni osadzeń słów\n",
        "hidden_dims = 32  # liczba neuronów w warstwie ukrytej\n",
        "\n",
        "# załadowanie danych IMDB\n",
        "(x_train, y_train), (x_test, y_test) = imdb.load_data(num_words=max_features)\n",
        "\n",
        "# dostosowanie długości sekwencji słów\n",
        "x_train = pad_sequences(x_train, maxlen=maxlen)\n",
        "x_test = pad_sequences(x_test, maxlen=maxlen)\n",
        "\n",
        "# utworzenie modelu sieci neuronowej\n",
        "model = Sequential()\n",
        "model.add(Embedding(max_features, embedding_dims, input_length=maxlen))\n",
        "model.add(SimpleRNN(hidden_dims))\n",
        "model.add(Dense(1, activation='sigmoid'))\n",
        "\n",
        "# kompilacja modelu\n",
        "model.compile(loss='binary_crossentropy', optimizer='adam', metrics=['accuracy'])\n",
        "\n",
        "# uczenie modelu\n",
        "model.fit(x_train, y_train, batch_size=batch_size, epochs=2, validation_data=(x_test, y_test))"
      ],
      "metadata": {
        "colab": {
          "base_uri": "https://localhost:8080/"
        },
        "id": "GyYODGPnb3dk",
        "outputId": "1c6e3992-066e-4bea-ef8e-47f44145f6a8"
      },
      "execution_count": null,
      "outputs": [
        {
          "output_type": "stream",
          "name": "stdout",
          "text": [
            "Downloading data from https://storage.googleapis.com/tensorflow/tf-keras-datasets/imdb.npz\n",
            "17464789/17464789 [==============================] - 1s 0us/step\n",
            "Epoch 1/2\n",
            "782/782 [==============================] - 126s 158ms/step - loss: 0.5124 - accuracy: 0.7382 - val_loss: 0.3949 - val_accuracy: 0.8299\n",
            "Epoch 2/2\n",
            "782/782 [==============================] - 96s 123ms/step - loss: 0.3192 - accuracy: 0.8681 - val_loss: 0.4216 - val_accuracy: 0.8169\n"
          ]
        },
        {
          "output_type": "execute_result",
          "data": {
            "text/plain": [
              "<keras.callbacks.History at 0x7f395c3ef7c0>"
            ]
          },
          "metadata": {},
          "execution_count": 31
        }
      ]
    },
    {
      "cell_type": "code",
      "source": [
        "# Przygotowanie słownika mapowania identyfikatorów słów na słowa\n",
        "word_index = imdb.get_word_index()\n",
        "reverse_word_index = dict([(value, key) for (key, value) in word_index.items()])\n",
        "\n",
        "# Wybór losowej sekwencji tekstowej z testowego zestawu danych\n",
        "sample = np.random.randint(len(x_test))\n",
        "text = x_test[sample]\n",
        "label = y_test[sample]\n",
        "\n",
        "# Wartości w zakresie 0-2 są zarezerwowane dla specjalnych znaków, zacznijmy od indeksu 3\n",
        "decoded_review = ' '.join([reverse_word_index.get(i - 3, '?') for i in text])\n",
        "print(f\"Tekst: {decoded_review}\")\n",
        "print(f\"Etykieta:{label}\")\n",
        "\n",
        "# Dokonanie predykcji na przykładowych danych\n",
        "prediction = model.predict(np.array([text]))\n",
        "print(f\"Predykcja: {prediction[0]}\")"
      ],
      "metadata": {
        "colab": {
          "base_uri": "https://localhost:8080/"
        },
        "id": "RM35ZXO0b_Bw",
        "outputId": "84125f59-e9e9-4736-a491-0e904f49ddc3"
      },
      "execution_count": null,
      "outputs": [
        {
          "output_type": "stream",
          "name": "stdout",
          "text": [
            "Downloading data from https://storage.googleapis.com/tensorflow/tf-keras-datasets/imdb_word_index.json\n",
            "1641221/1641221 [==============================] - 0s 0us/step\n",
            "Tekst: living notably in his on screen discussions with wayans then again his real life affair with the ? was inconsistent also br br if seagal wants to become a more ? actor then he should do what a fellow action figure did in ? cop put humorous material or situations in the script where the actor has no choice but to react in a comical way otherwise leave the wise cracks and the ? attempts at humor out of it while chasing a serial killer seagal is not a natural humor type of guy it did not work br br\n",
            "Etykieta:0\n",
            "1/1 [==============================] - 0s 138ms/step\n",
            "Predykcja: [0.35419813]\n"
          ]
        }
      ]
    },
    {
      "cell_type": "markdown",
      "source": [
        "# Zadanie 4"
      ],
      "metadata": {
        "id": "DjCPsb52fNUG"
      }
    },
    {
      "cell_type": "code",
      "source": [
        "import numpy as np\n",
        "from keras.datasets import imdb\n",
        "from keras.models import Sequential\n",
        "from keras.layers import Dense, LSTM, Embedding\n",
        "from tensorflow.keras.preprocessing.sequence import pad_sequences\n",
        "\n",
        "# set hyperparameters\n",
        "max_features = 10000  # maximum number of words\n",
        "maxlen = 100  # maximum sequence length\n",
        "batch_size = 32\n",
        "embedding_dims = 50  # dimensionality of word embeddings\n",
        "hidden_dims = 32  # number of neurons in the hidden layer\n",
        "\n",
        "# load IMDB dataset\n",
        "(x_train, y_train), (x_test, y_test) = imdb.load_data(num_words=max_features)\n",
        "\n",
        "# adjust sequence lengths\n",
        "x_train = pad_sequences(x_train, maxlen=maxlen)\n",
        "x_test = pad_sequences(x_test, maxlen=maxlen)\n",
        "\n",
        "# build the neural network model\n",
        "model = Sequential()\n",
        "model.add(Embedding(max_features, embedding_dims, input_length=maxlen))\n",
        "model.add(LSTM(hidden_dims))\n",
        "model.add(Dense(1, activation='sigmoid'))\n",
        "\n",
        "# compile the model\n",
        "model.compile(loss='binary_crossentropy', optimizer='adam', metrics=['accuracy'])\n",
        "\n",
        "# train the model\n",
        "model.fit(x_train, y_train, batch_size=batch_size, epochs=2, validation_data=(x_test, y_test))"
      ],
      "metadata": {
        "colab": {
          "base_uri": "https://localhost:8080/"
        },
        "id": "NthwN2AQfOop",
        "outputId": "da15a5a7-61f8-4178-efa5-c12c7fbc5d2c"
      },
      "execution_count": null,
      "outputs": [
        {
          "output_type": "stream",
          "name": "stdout",
          "text": [
            "Epoch 1/2\n",
            "782/782 [==============================] - 30s 35ms/step - loss: 0.4151 - accuracy: 0.8046 - val_loss: 0.3358 - val_accuracy: 0.8524\n",
            "Epoch 2/2\n",
            "782/782 [==============================] - 11s 14ms/step - loss: 0.2600 - accuracy: 0.8966 - val_loss: 0.3423 - val_accuracy: 0.8478\n"
          ]
        },
        {
          "output_type": "execute_result",
          "data": {
            "text/plain": [
              "<keras.callbacks.History at 0x7f3991044340>"
            ]
          },
          "metadata": {},
          "execution_count": 33
        }
      ]
    },
    {
      "cell_type": "code",
      "source": [
        "# Przygotowanie słownika mapowania identyfikatorów słów na słowa\n",
        "word_index = imdb.get_word_index()\n",
        "reverse_word_index = dict([(value, key) for (key, value) in word_index.items()])\n",
        "\n",
        "# Wybór losowej sekwencji tekstowej z testowego zestawu danych\n",
        "sample = np.random.randint(len(x_test))\n",
        "text = x_test[sample]\n",
        "label = y_test[sample]\n",
        "\n",
        "# Wartości w zakresie 0-2 są zarezerwowane dla specjalnych znaków, zacznijmy od indeksu 3\n",
        "decoded_review = ' '.join([reverse_word_index.get(i - 3, '?') for i in text])\n",
        "print(f\"Tekst: {decoded_review}\")\n",
        "print(f\"Etykieta:{label}\")\n",
        "\n",
        "# Dokonanie predykcji na przykładowych danych\n",
        "prediction = model.predict(np.array([text]))\n",
        "print(f\"Predykcja: {prediction[0]}\")"
      ],
      "metadata": {
        "colab": {
          "base_uri": "https://localhost:8080/"
        },
        "id": "2KMA8ANYf0hR",
        "outputId": "8b7aef9d-0451-4ad0-8dfa-2d7561742707"
      },
      "execution_count": null,
      "outputs": [
        {
          "output_type": "stream",
          "name": "stdout",
          "text": [
            "Tekst: ? ? ? ? ? ? ? ? ? ? ? ? ? ? ? ? ? ? ? ? ? ? ? ? ? ? ? ? ? ? ? ? ? ? ? ? this movie takes the voice of terror and makes it better holmes is protecting an ? in switzerland and is on the trail of professor ? who has become a nazi this is a better version of holmes in a wwii world ? does a great job with holmes as a spy and a detective see this if you liked the voice of terror\n",
            "Etykieta:1\n",
            "1/1 [==============================] - 0s 325ms/step\n",
            "Predykcja: [0.9894131]\n"
          ]
        }
      ]
    },
    {
      "cell_type": "markdown",
      "source": [
        "# Zadanie 5"
      ],
      "metadata": {
        "id": "8EPRHju2g-6Q"
      }
    },
    {
      "cell_type": "code",
      "source": [
        "from keras.datasets import imdb\n",
        "from keras.preprocessing import sequence\n",
        "from keras.models import Sequential\n",
        "from keras.layers import Dense, Embedding, GRU\n",
        "from tensorflow.keras.preprocessing.sequence import pad_sequences\n",
        "\n",
        "max_features = 10000  # Liczba słów, które chcemy zastosować w analizie\n",
        "maxlen = 100  # Maksymalna liczba słów w recenzji\n",
        "batch_size = 32  # Liczba recenzji przetwarzana jednocześnie\n",
        "\n",
        "(input_train, y_train), (input_test, y_test) = imdb.load_data(num_words=max_features)\n",
        "print(len(input_train), 'train sequences')\n",
        "print(len(input_test), 'test sequences')\n",
        "\n",
        "# Dopełnij recenzje zerami, jeśli są za krótkie, lub obetnij, jeśli są za długie\n",
        "input_train = pad_sequences(input_train, maxlen=maxlen)\n",
        "input_test = pad_sequences(input_test, maxlen=maxlen)\n",
        "print('input_train shape:', input_train.shape)\n",
        "print('input_test shape:', input_test.shape)\n",
        "\n",
        "# Model sieci rekurencyjnej z GRU\n",
        "model = Sequential()\n",
        "model.add(Embedding(max_features, 128))\n",
        "model.add(GRU(128, dropout=0.2, recurrent_dropout=0.2))\n",
        "model.add(Dense(1, activation='sigmoid'))\n",
        "\n",
        "# Kompilacja modelu\n",
        "model.compile(loss='binary_crossentropy',\n",
        "              optimizer='adam',\n",
        "              metrics=['accuracy'])\n",
        "\n",
        "# Trenowanie modelu\n",
        "print('Training...')\n",
        "model.fit(input_train, y_train,\n",
        "          batch_size=batch_size,\n",
        "          epochs=2,\n",
        "          validation_data=(input_test, y_test))\n",
        "\n",
        "# Ocena modelu\n",
        "scores = model.evaluate(input_test, y_test, verbose=0)\n",
        "print('Test accuracy:', scores[1])"
      ],
      "metadata": {
        "colab": {
          "base_uri": "https://localhost:8080/"
        },
        "id": "Owwy2BKehAOW",
        "outputId": "93595cd5-750f-4553-e401-8f53efa658cf"
      },
      "execution_count": null,
      "outputs": [
        {
          "output_type": "stream",
          "name": "stdout",
          "text": [
            "25000 train sequences\n",
            "25000 test sequences\n"
          ]
        },
        {
          "output_type": "stream",
          "name": "stderr",
          "text": [
            "WARNING:tensorflow:Layer gru_1 will not use cuDNN kernels since it doesn't meet the criteria. It will use a generic GPU kernel as fallback when running on GPU.\n"
          ]
        },
        {
          "output_type": "stream",
          "name": "stdout",
          "text": [
            "input_train shape: (25000, 100)\n",
            "input_test shape: (25000, 100)\n",
            "Training...\n",
            "Epoch 1/2\n",
            "782/782 [==============================] - 358s 454ms/step - loss: 0.4229 - accuracy: 0.8006 - val_loss: 0.3361 - val_accuracy: 0.8541\n",
            "Epoch 2/2\n",
            "782/782 [==============================] - 350s 448ms/step - loss: 0.2543 - accuracy: 0.8975 - val_loss: 0.3489 - val_accuracy: 0.8600\n",
            "Test accuracy: 0.8599600195884705\n"
          ]
        }
      ]
    },
    {
      "cell_type": "markdown",
      "source": [
        "# Zadanie 6"
      ],
      "metadata": {
        "id": "pmXaGLNwkTdx"
      }
    },
    {
      "cell_type": "code",
      "source": [
        "import numpy as np\n",
        "from keras.models import Sequential\n",
        "from keras.layers import SimpleRNN, Dense"
      ],
      "metadata": {
        "id": "OrxHbyvWkg7-"
      },
      "execution_count": null,
      "outputs": []
    },
    {
      "cell_type": "code",
      "source": [
        "timesteps: int = 10\n",
        "batch_size: int = 8\n",
        "epochs: int = 20\n",
        "hidden_dims: int = 32"
      ],
      "metadata": {
        "id": "EtS-GBVkl_hQ"
      },
      "execution_count": null,
      "outputs": []
    },
    {
      "cell_type": "code",
      "source": [
        "# 1\n",
        "def rastragin(x):\n",
        "    return 10 * len(x) + np.sum(x**2 - 10 * np.cos(2 * np.pi * x))\n",
        "\n",
        "input_data = np.random.random((1000, 10)) # 1000 sequences of length 10\n",
        "output_data = np.apply_along_axis(rastragin, 1, input_data)\n",
        "output_data /= np.max(output_data)"
      ],
      "metadata": {
        "id": "dtff0TUhklEn"
      },
      "execution_count": null,
      "outputs": []
    },
    {
      "cell_type": "code",
      "source": [
        "train_size = int(len(input_data) * 0.8)\n",
        "X_train, X_test = input_data[:train_size], input_data[train_size:]\n",
        "y_train, y_test = output_data[:train_size], output_data[train_size:]"
      ],
      "metadata": {
        "id": "JLlRYh31k5Sm"
      },
      "execution_count": null,
      "outputs": []
    },
    {
      "cell_type": "code",
      "source": [
        "model = Sequential()\n",
        "model.add(SimpleRNN(hidden_dims, input_shape=(X_train.shape[1], 1)))\n",
        "model.add(Dense(1, activation='linear'))\n",
        "model.compile(optimizer='adam', loss='mse')"
      ],
      "metadata": {
        "id": "tgnRyy4alF24"
      },
      "execution_count": null,
      "outputs": []
    },
    {
      "cell_type": "code",
      "source": [
        "model.fit(input_data, output_data, epochs=epochs, batch_size=batch_size)\n",
        "loss = model.evaluate(X_test, y_test)\n",
        "print(f\"Loss: {loss}\")"
      ],
      "metadata": {
        "colab": {
          "base_uri": "https://localhost:8080/"
        },
        "id": "UphiS4oGlIQJ",
        "outputId": "4a1e2847-b8bf-402e-891d-81a53ecaea9a"
      },
      "execution_count": null,
      "outputs": [
        {
          "output_type": "stream",
          "name": "stdout",
          "text": [
            "Epoch 1/20\n",
            "125/125 [==============================] - 2s 5ms/step - loss: 0.0329\n",
            "Epoch 2/20\n",
            "125/125 [==============================] - 1s 5ms/step - loss: 0.0188\n",
            "Epoch 3/20\n",
            "125/125 [==============================] - 1s 5ms/step - loss: 0.0176\n",
            "Epoch 4/20\n",
            "125/125 [==============================] - 1s 5ms/step - loss: 0.0162\n",
            "Epoch 5/20\n",
            "125/125 [==============================] - 1s 5ms/step - loss: 0.0145\n",
            "Epoch 6/20\n",
            "125/125 [==============================] - 1s 5ms/step - loss: 0.0140\n",
            "Epoch 7/20\n",
            "125/125 [==============================] - 1s 5ms/step - loss: 0.0117\n",
            "Epoch 8/20\n",
            "125/125 [==============================] - 1s 5ms/step - loss: 0.0124\n",
            "Epoch 9/20\n",
            "125/125 [==============================] - 1s 5ms/step - loss: 0.0109\n",
            "Epoch 10/20\n",
            "125/125 [==============================] - 1s 5ms/step - loss: 0.0097\n",
            "Epoch 11/20\n",
            "125/125 [==============================] - 1s 5ms/step - loss: 0.0089\n",
            "Epoch 12/20\n",
            "125/125 [==============================] - 1s 5ms/step - loss: 0.0084\n",
            "Epoch 13/20\n",
            "125/125 [==============================] - 1s 5ms/step - loss: 0.0081\n",
            "Epoch 14/20\n",
            "125/125 [==============================] - 1s 5ms/step - loss: 0.0080\n",
            "Epoch 15/20\n",
            "125/125 [==============================] - 1s 5ms/step - loss: 0.0073\n",
            "Epoch 16/20\n",
            "125/125 [==============================] - 1s 6ms/step - loss: 0.0067\n",
            "Epoch 17/20\n",
            "125/125 [==============================] - 1s 7ms/step - loss: 0.0066\n",
            "Epoch 18/20\n",
            "125/125 [==============================] - 1s 7ms/step - loss: 0.0071\n",
            "Epoch 19/20\n",
            "125/125 [==============================] - 1s 5ms/step - loss: 0.0072\n",
            "Epoch 20/20\n",
            "125/125 [==============================] - 1s 5ms/step - loss: 0.0060\n",
            "7/7 [==============================] - 0s 4ms/step - loss: 0.0051\n",
            "Loss: 0.005094561725854874\n"
          ]
        }
      ]
    },
    {
      "cell_type": "code",
      "source": [
        "predictions = model.predict(X_test)"
      ],
      "metadata": {
        "colab": {
          "base_uri": "https://localhost:8080/"
        },
        "id": "IIgMgP4BlOMW",
        "outputId": "2b35f24a-60fe-4135-8439-f41dee92b1a5"
      },
      "execution_count": null,
      "outputs": [
        {
          "output_type": "stream",
          "name": "stdout",
          "text": [
            "7/7 [==============================] - 0s 3ms/step\n"
          ]
        }
      ]
    },
    {
      "cell_type": "code",
      "source": [
        "import matplotlib.pyplot as plt\n",
        "\n",
        "# narysuj dane testowe\n",
        "plt.plot(y_test, label='True values')\n",
        "\n",
        "# narysuj przewidywane wartości\n",
        "plt.plot(predictions, label='Predictions')\n",
        "\n",
        "plt.title('Predictions vs True values')\n",
        "plt.legend()\n",
        "plt.show()"
      ],
      "metadata": {
        "colab": {
          "base_uri": "https://localhost:8080/",
          "height": 281
        },
        "id": "uUqxPezOlRc4",
        "outputId": "4fef898b-c986-408d-9ba2-b9e60c846e74"
      },
      "execution_count": null,
      "outputs": [
        {
          "output_type": "display_data",
          "data": {
            "text/plain": [
              "<Figure size 432x288 with 1 Axes>"
            ],
            "image/png": "[encoded data removed]"
          },
          "metadata": {
            "needs_background": "light"
          }
        }
      ]
    },
    {
      "cell_type": "code",
      "source": [
        "# 2\n",
        "timesteps: int = 10\n",
        "batch_size: int = 8\n",
        "epochs: int = 20\n",
        "hidden_dims: int = 32"
      ],
      "metadata": {
        "id": "QqG5LPTxuXgO"
      },
      "execution_count": null,
      "outputs": []
    },
    {
      "cell_type": "code",
      "source": [
        "def ackley(x):\n",
        "    a = 20\n",
        "    b = 0.2\n",
        "    c = 2 * np.pi\n",
        "    d = len(x)\n",
        "    sum1 = -a * np.exp(-b * np.sqrt(1/d * np.sum(x**2)))\n",
        "    sum2 = -np.exp(1/d * np.sum(np.cos(c*x)))\n",
        "    return sum1 + sum2 + a + np.exp(1)\n",
        "\n",
        "input_data = np.random.uniform(low=-5.0, high=5.0, size=(1000, 2)) # 1000 samples of 2-dimensional data\n",
        "output_data = np.apply_along_axis(ackley, 1, input_data)\n",
        "output_data /= np.max(output_data)"
      ],
      "metadata": {
        "id": "KNFxj2iDkoOJ"
      },
      "execution_count": null,
      "outputs": []
    },
    {
      "cell_type": "code",
      "source": [
        "train_size = int(len(input_data) * 0.8)\n",
        "X_train, X_test = input_data[:train_size], input_data[train_size:]\n",
        "y_train, y_test = output_data[:train_size], output_data[train_size:]"
      ],
      "metadata": {
        "id": "NVsHNnKIt8Lz"
      },
      "execution_count": null,
      "outputs": []
    },
    {
      "cell_type": "code",
      "source": [
        "model = Sequential()\n",
        "model.add(SimpleRNN(hidden_dims, input_shape=(X_train.shape[1], 1)))\n",
        "model.add(Dense(1, activation='linear'))\n",
        "model.compile(optimizer='adam', loss='mse')"
      ],
      "metadata": {
        "id": "t4HEHr1kt_NL"
      },
      "execution_count": null,
      "outputs": []
    },
    {
      "cell_type": "code",
      "source": [
        "model.fit(input_data, output_data, epochs=epochs, batch_size=batch_size)\n",
        "loss = model.evaluate(X_test, y_test)\n",
        "print(f\"Loss: {loss}\")"
      ],
      "metadata": {
        "colab": {
          "base_uri": "https://localhost:8080/"
        },
        "id": "Bjwy9STXuAz1",
        "outputId": "1a50e84f-cad7-4649-c349-38fbcb8ee84b"
      },
      "execution_count": null,
      "outputs": [
        {
          "output_type": "stream",
          "name": "stdout",
          "text": [
            "Epoch 1/20\n",
            "125/125 [==============================] - 3s 5ms/step - loss: 0.2969\n",
            "Epoch 2/20\n",
            "125/125 [==============================] - 1s 4ms/step - loss: 0.0624\n",
            "Epoch 3/20\n",
            "125/125 [==============================] - 0s 3ms/step - loss: 0.0443\n",
            "Epoch 4/20\n",
            "125/125 [==============================] - 0s 3ms/step - loss: 0.0276\n",
            "Epoch 5/20\n",
            "125/125 [==============================] - 0s 3ms/step - loss: 0.0145\n",
            "Epoch 6/20\n",
            "125/125 [==============================] - 0s 3ms/step - loss: 0.0063\n",
            "Epoch 7/20\n",
            "125/125 [==============================] - 0s 3ms/step - loss: 0.0029\n",
            "Epoch 8/20\n",
            "125/125 [==============================] - 0s 3ms/step - loss: 0.0024\n",
            "Epoch 9/20\n",
            "125/125 [==============================] - 0s 3ms/step - loss: 0.0021\n",
            "Epoch 10/20\n",
            "125/125 [==============================] - 0s 3ms/step - loss: 0.0020\n",
            "Epoch 11/20\n",
            "125/125 [==============================] - 0s 3ms/step - loss: 0.0021\n",
            "Epoch 12/20\n",
            "125/125 [==============================] - 0s 3ms/step - loss: 0.0018\n",
            "Epoch 13/20\n",
            "125/125 [==============================] - 0s 3ms/step - loss: 0.0020\n",
            "Epoch 14/20\n",
            "125/125 [==============================] - 0s 3ms/step - loss: 0.0019\n",
            "Epoch 15/20\n",
            "125/125 [==============================] - 0s 3ms/step - loss: 0.0019\n",
            "Epoch 16/20\n",
            "125/125 [==============================] - 0s 3ms/step - loss: 0.0020\n",
            "Epoch 17/20\n",
            "125/125 [==============================] - 0s 3ms/step - loss: 0.0020\n",
            "Epoch 18/20\n",
            "125/125 [==============================] - 0s 3ms/step - loss: 0.0021\n",
            "Epoch 19/20\n",
            "125/125 [==============================] - 0s 3ms/step - loss: 0.0019\n",
            "Epoch 20/20\n",
            "125/125 [==============================] - 0s 3ms/step - loss: 0.0018\n",
            "7/7 [==============================] - 0s 3ms/step - loss: 0.0023\n",
            "Loss: 0.0023037130013108253\n"
          ]
        }
      ]
    },
    {
      "cell_type": "code",
      "source": [
        "predictions = model.predict(X_test)"
      ],
      "metadata": {
        "colab": {
          "base_uri": "https://localhost:8080/"
        },
        "id": "I06Nrn4tuIsF",
        "outputId": "0d2af212-3ea6-4a4e-8d18-0145c216b0e2"
      },
      "execution_count": null,
      "outputs": [
        {
          "output_type": "stream",
          "name": "stdout",
          "text": [
            "7/7 [==============================] - 0s 3ms/step\n"
          ]
        }
      ]
    },
    {
      "cell_type": "code",
      "source": [
        "import matplotlib.pyplot as plt\n",
        "\n",
        "# narysuj dane testowe\n",
        "plt.plot(y_test, label='True values')\n",
        "\n",
        "# narysuj przewidywane wartości\n",
        "plt.plot(predictions, label='Predictions')\n",
        "\n",
        "plt.title('Predictions vs True values')\n",
        "plt.legend()\n",
        "plt.show()"
      ],
      "metadata": {
        "colab": {
          "base_uri": "https://localhost:8080/",
          "height": 281
        },
        "id": "pcg5zOzzuKXp",
        "outputId": "f6a9a46a-4c24-42e2-8a89-81d8c7a4c8ac"
      },
      "execution_count": null,
      "outputs": [
        {
          "output_type": "display_data",
          "data": {
            "text/plain": [
              "<Figure size 432x288 with 1 Axes>"
            ],
            "image/png": "[encoded data removed]"
          },
          "metadata": {
            "needs_background": "light"
          }
        }
      ]
    },
    {
      "cell_type": "code",
      "source": [
        "# 3\n",
        "timesteps: int = 10\n",
        "batch_size: int = 8\n",
        "epochs: int = 20\n",
        "hidden_dims: int = 32"
      ],
      "metadata": {
        "id": "eGY1e8hJuqLm"
      },
      "execution_count": null,
      "outputs": []
    },
    {
      "cell_type": "code",
      "source": [
        "def rosenbrock(x):\n",
        "    return np.sum(100 * (x[1:] - x[:-1]**2)**2 + (1 - x[:-1])**2)\n",
        "\n",
        "input_data = np.random.uniform(low=-2.0, high=2.0, size=(1000, 2)) # 1000 samples of 2-dimensional data\n",
        "output_data = np.apply_along_axis(rosenbrock, 1, input_data)\n",
        "output_data /= np.max(output_data)"
      ],
      "metadata": {
        "id": "UcNXvcgSkpBJ"
      },
      "execution_count": null,
      "outputs": []
    },
    {
      "cell_type": "code",
      "source": [
        "train_size = int(len(input_data) * 0.8)\n",
        "X_train, X_test = input_data[:train_size], input_data[train_size:]\n",
        "y_train, y_test = output_data[:train_size], output_data[train_size:]"
      ],
      "metadata": {
        "id": "H31mAGnwuvK0"
      },
      "execution_count": null,
      "outputs": []
    },
    {
      "cell_type": "code",
      "source": [
        "model = Sequential()\n",
        "model.add(SimpleRNN(hidden_dims, input_shape=(X_train.shape[1], 1)))\n",
        "model.add(Dense(1, activation='linear'))\n",
        "model.compile(optimizer='adam', loss='mae')"
      ],
      "metadata": {
        "id": "gHxj9e8euxDf"
      },
      "execution_count": null,
      "outputs": []
    },
    {
      "cell_type": "code",
      "source": [
        "model.fit(input_data, output_data, epochs=epochs, batch_size=batch_size)\n",
        "loss = model.evaluate(X_test, y_test)\n",
        "print(f\"Loss: {loss}\")"
      ],
      "metadata": {
        "colab": {
          "base_uri": "https://localhost:8080/"
        },
        "id": "RKQ-6rZTu2LL",
        "outputId": "4497c32c-2da0-4a2e-e93b-50d825d1fa68"
      },
      "execution_count": null,
      "outputs": [
        {
          "output_type": "stream",
          "name": "stdout",
          "text": [
            "Epoch 1/20\n",
            "125/125 [==============================] - 2s 3ms/step - loss: 0.1329\n",
            "Epoch 2/20\n",
            "125/125 [==============================] - 0s 3ms/step - loss: 0.1086\n",
            "Epoch 3/20\n",
            "125/125 [==============================] - 0s 3ms/step - loss: 0.0973\n",
            "Epoch 4/20\n",
            "125/125 [==============================] - 0s 3ms/step - loss: 0.0797\n",
            "Epoch 5/20\n",
            "125/125 [==============================] - 0s 3ms/step - loss: 0.0705\n",
            "Epoch 6/20\n",
            "125/125 [==============================] - 0s 3ms/step - loss: 0.0637\n",
            "Epoch 7/20\n",
            "125/125 [==============================] - 0s 3ms/step - loss: 0.0608\n",
            "Epoch 8/20\n",
            "125/125 [==============================] - 0s 3ms/step - loss: 0.0560\n",
            "Epoch 9/20\n",
            "125/125 [==============================] - 0s 3ms/step - loss: 0.0544\n",
            "Epoch 10/20\n",
            "125/125 [==============================] - 0s 3ms/step - loss: 0.0537\n",
            "Epoch 11/20\n",
            "125/125 [==============================] - 0s 3ms/step - loss: 0.0518\n",
            "Epoch 12/20\n",
            "125/125 [==============================] - 0s 3ms/step - loss: 0.0499\n",
            "Epoch 13/20\n",
            "125/125 [==============================] - 0s 3ms/step - loss: 0.0546\n",
            "Epoch 14/20\n",
            "125/125 [==============================] - 0s 3ms/step - loss: 0.0483\n",
            "Epoch 15/20\n",
            "125/125 [==============================] - 0s 3ms/step - loss: 0.0490\n",
            "Epoch 16/20\n",
            "125/125 [==============================] - 0s 3ms/step - loss: 0.0483\n",
            "Epoch 17/20\n",
            "125/125 [==============================] - 0s 4ms/step - loss: 0.0483\n",
            "Epoch 18/20\n",
            "125/125 [==============================] - 1s 5ms/step - loss: 0.0467\n",
            "Epoch 19/20\n",
            "125/125 [==============================] - 1s 5ms/step - loss: 0.0462\n",
            "Epoch 20/20\n",
            "125/125 [==============================] - 1s 4ms/step - loss: 0.0452\n",
            "7/7 [==============================] - 0s 4ms/step - loss: 0.0419\n",
            "Loss: 0.04193700850009918\n"
          ]
        }
      ]
    },
    {
      "cell_type": "code",
      "source": [
        "predictions = model.predict(X_test)"
      ],
      "metadata": {
        "colab": {
          "base_uri": "https://localhost:8080/"
        },
        "id": "8pwX5gd7u8Ya",
        "outputId": "376ff92d-a115-4369-b1df-0f87cad501ff"
      },
      "execution_count": null,
      "outputs": [
        {
          "output_type": "stream",
          "name": "stdout",
          "text": [
            "7/7 [==============================] - 0s 2ms/step\n"
          ]
        }
      ]
    },
    {
      "cell_type": "code",
      "source": [
        "import matplotlib.pyplot as plt\n",
        "\n",
        "# narysuj dane testowe\n",
        "plt.plot(y_test, label='True values')\n",
        "\n",
        "# narysuj przewidywane wartości\n",
        "plt.plot(predictions, label='Predictions')\n",
        "\n",
        "plt.title('Predictions vs True values')\n",
        "plt.legend()\n",
        "plt.show()"
      ],
      "metadata": {
        "colab": {
          "base_uri": "https://localhost:8080/",
          "height": 281
        },
        "id": "TSofPo4mvApq",
        "outputId": "1412eed2-ea65-4eca-fbfd-f5e66d8f1738"
      },
      "execution_count": null,
      "outputs": [
        {
          "output_type": "display_data",
          "data": {
            "text/plain": [
              "<Figure size 432x288 with 1 Axes>"
            ],
            "image/png": "[encoded data removed]"
          },
          "metadata": {
            "needs_background": "light"
          }
        }
      ]
    },
    {
      "cell_type": "markdown",
      "source": [
        "# Zadanie 7"
      ],
      "metadata": {
        "id": "NbQmcI3IwFXv"
      }
    },
    {
      "cell_type": "code",
      "source": [],
      "metadata": {
        "id": "UoT5fg18wGpg"
      },
      "execution_count": null,
      "outputs": []
    }
  ]
}
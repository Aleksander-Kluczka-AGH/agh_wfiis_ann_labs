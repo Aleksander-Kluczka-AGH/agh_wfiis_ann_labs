{
  "nbformat": 4,
  "nbformat_minor": 0,
  "metadata": {
    "colab": {
      "provenance": []
    },
    "kernelspec": {
      "name": "python3",
      "display_name": "Python 3"
    },
    "language_info": {
      "name": "python"
    },
    "accelerator": "GPU",
    "gpuClass": "standard"
  },
  "cells": [
    {
      "cell_type": "markdown",
      "source": [
        "# MNIST"
      ],
      "metadata": {
        "id": "XWjcmbPfS7fp"
      }
    },
    {
      "cell_type": "code",
      "source": [
        "import numpy as np\n",
        "from tensorflow import keras\n",
        "from keras import layers"
      ],
      "metadata": {
        "id": "eYZc7rD5S-4W"
      },
      "execution_count": null,
      "outputs": []
    },
    {
      "cell_type": "code",
      "source": [
        "# Model / data parameters\n",
        "num_classes = 10\n",
        "input_shape = (28, 28, 1)\n",
        "\n",
        "# Load the data and split it between train and test sets\n",
        "(x_train, y_train), (x_test, y_test) = keras.datasets.mnist.load_data()\n",
        "\n",
        "# Scale images to the [0, 1] range\n",
        "x_train = x_train.astype(\"float32\") / 255\n",
        "x_test = x_test.astype(\"float32\") / 255\n",
        "# Make sure images have shape (28, 28, 1)\n",
        "x_train = np.expand_dims(x_train, -1)\n",
        "x_test = np.expand_dims(x_test, -1)\n",
        "print(\"x_train shape:\", x_train.shape)\n",
        "print(x_train.shape[0], \"train samples\")\n",
        "print(x_test.shape[0], \"test samples\")\n",
        "\n",
        "\n",
        "# convert class vectors to binary class matrices\n",
        "y_train = keras.utils.to_categorical(y_train, num_classes)\n",
        "y_test = keras.utils.to_categorical(y_test, num_classes)"
      ],
      "metadata": {
        "colab": {
          "base_uri": "https://localhost:8080/"
        },
        "id": "eVTDERypTnzT",
        "outputId": "a023b4e2-eaf0-4303-ca47-5624cf8b459c"
      },
      "execution_count": null,
      "outputs": [
        {
          "output_type": "stream",
          "name": "stdout",
          "text": [
            "x_train shape: (60000, 28, 28, 1)\n",
            "60000 train samples\n",
            "10000 test samples\n"
          ]
        }
      ]
    },
    {
      "cell_type": "code",
      "source": [
        "model = keras.Sequential(\n",
        "    [\n",
        "        keras.Input(shape=input_shape),\n",
        "        layers.Conv2D(32, kernel_size=(3, 3), activation=\"relu\"),\n",
        "        layers.MaxPooling2D(pool_size=(2, 2)),\n",
        "        layers.Conv2D(64, kernel_size=(3, 3), activation=\"relu\"),\n",
        "        layers.MaxPooling2D(pool_size=(2, 2)),\n",
        "        layers.Flatten(),\n",
        "        layers.Dropout(0.5),\n",
        "        layers.Dense(num_classes, activation=\"softmax\"),\n",
        "    ]\n",
        ")\n",
        "\n",
        "model.summary()"
      ],
      "metadata": {
        "colab": {
          "base_uri": "https://localhost:8080/"
        },
        "id": "rFKbtJpzTuUg",
        "outputId": "a6c4b2f7-cad3-4ac7-cb6e-34c7a0a06c05"
      },
      "execution_count": null,
      "outputs": [
        {
          "output_type": "stream",
          "name": "stdout",
          "text": [
            "Model: \"sequential\"\n",
            "_________________________________________________________________\n",
            " Layer (type)                Output Shape              Param #   \n",
            "=================================================================\n",
            " conv2d (Conv2D)             (None, 26, 26, 32)        320       \n",
            "                                                                 \n",
            " max_pooling2d (MaxPooling2D  (None, 13, 13, 32)       0         \n",
            " )                                                               \n",
            "                                                                 \n",
            " conv2d_1 (Conv2D)           (None, 11, 11, 64)        18496     \n",
            "                                                                 \n",
            " max_pooling2d_1 (MaxPooling  (None, 5, 5, 64)         0         \n",
            " 2D)                                                             \n",
            "                                                                 \n",
            " flatten (Flatten)           (None, 1600)              0         \n",
            "                                                                 \n",
            " dropout (Dropout)           (None, 1600)              0         \n",
            "                                                                 \n",
            " dense (Dense)               (None, 10)                16010     \n",
            "                                                                 \n",
            "=================================================================\n",
            "Total params: 34,826\n",
            "Trainable params: 34,826\n",
            "Non-trainable params: 0\n",
            "_________________________________________________________________\n"
          ]
        }
      ]
    },
    {
      "cell_type": "code",
      "source": [
        "batch_size = 128\n",
        "epochs = 15\n",
        "\n",
        "model.compile(loss=\"categorical_crossentropy\", optimizer=\"adam\", metrics=[\"accuracy\"])\n",
        "\n",
        "model.fit(x_train, y_train, batch_size=batch_size, epochs=epochs, validation_split=0.1)"
      ],
      "metadata": {
        "colab": {
          "base_uri": "https://localhost:8080/"
        },
        "id": "WjLqRT8lT7be",
        "outputId": "533a58ce-0324-4434-fa5f-90bc26a904f3"
      },
      "execution_count": null,
      "outputs": [
        {
          "output_type": "stream",
          "name": "stdout",
          "text": [
            "Epoch 1/15\n",
            "422/422 [==============================] - 30s 69ms/step - loss: 0.3808 - accuracy: 0.8836 - val_loss: 0.0811 - val_accuracy: 0.9797\n",
            "Epoch 2/15\n",
            "422/422 [==============================] - 30s 70ms/step - loss: 0.1142 - accuracy: 0.9655 - val_loss: 0.0556 - val_accuracy: 0.9850\n",
            "Epoch 3/15\n",
            "422/422 [==============================] - 29s 69ms/step - loss: 0.0868 - accuracy: 0.9735 - val_loss: 0.0468 - val_accuracy: 0.9877\n",
            "Epoch 4/15\n",
            "422/422 [==============================] - 29s 69ms/step - loss: 0.0746 - accuracy: 0.9768 - val_loss: 0.0419 - val_accuracy: 0.9897\n",
            "Epoch 5/15\n",
            "422/422 [==============================] - 28s 68ms/step - loss: 0.0646 - accuracy: 0.9803 - val_loss: 0.0399 - val_accuracy: 0.9893\n",
            "Epoch 6/15\n",
            "422/422 [==============================] - 29s 69ms/step - loss: 0.0582 - accuracy: 0.9822 - val_loss: 0.0375 - val_accuracy: 0.9900\n",
            "Epoch 7/15\n",
            "422/422 [==============================] - 28s 67ms/step - loss: 0.0525 - accuracy: 0.9841 - val_loss: 0.0353 - val_accuracy: 0.9885\n",
            "Epoch 8/15\n",
            "422/422 [==============================] - 28s 67ms/step - loss: 0.0483 - accuracy: 0.9847 - val_loss: 0.0324 - val_accuracy: 0.9915\n",
            "Epoch 9/15\n",
            "422/422 [==============================] - 29s 69ms/step - loss: 0.0456 - accuracy: 0.9854 - val_loss: 0.0339 - val_accuracy: 0.9902\n",
            "Epoch 10/15\n",
            "422/422 [==============================] - 28s 67ms/step - loss: 0.0431 - accuracy: 0.9866 - val_loss: 0.0336 - val_accuracy: 0.9913\n",
            "Epoch 11/15\n",
            "422/422 [==============================] - 30s 70ms/step - loss: 0.0408 - accuracy: 0.9864 - val_loss: 0.0324 - val_accuracy: 0.9907\n",
            "Epoch 12/15\n",
            "422/422 [==============================] - 28s 67ms/step - loss: 0.0380 - accuracy: 0.9882 - val_loss: 0.0318 - val_accuracy: 0.9907\n",
            "Epoch 13/15\n",
            "422/422 [==============================] - 28s 67ms/step - loss: 0.0358 - accuracy: 0.9890 - val_loss: 0.0312 - val_accuracy: 0.9907\n",
            "Epoch 14/15\n",
            "422/422 [==============================] - 29s 69ms/step - loss: 0.0347 - accuracy: 0.9891 - val_loss: 0.0281 - val_accuracy: 0.9928\n",
            "Epoch 15/15\n",
            "422/422 [==============================] - 28s 67ms/step - loss: 0.0335 - accuracy: 0.9895 - val_loss: 0.0302 - val_accuracy: 0.9917\n"
          ]
        },
        {
          "output_type": "execute_result",
          "data": {
            "text/plain": [
              "<keras.callbacks.History at 0x7f4bd6470f10>"
            ]
          },
          "metadata": {},
          "execution_count": 5
        }
      ]
    },
    {
      "cell_type": "code",
      "source": [
        "score = model.evaluate(x_test, y_test, verbose=0)\n",
        "print(\"Test loss:\", score[0])\n",
        "print(\"Test accuracy:\", score[1])"
      ],
      "metadata": {
        "colab": {
          "base_uri": "https://localhost:8080/"
        },
        "id": "il-BH24TV09G",
        "outputId": "4f537ab9-3def-439a-dfe9-d2bde32d28ea"
      },
      "execution_count": null,
      "outputs": [
        {
          "output_type": "stream",
          "name": "stdout",
          "text": [
            "Test loss: 0.024231525138020515\n",
            "Test accuracy: 0.9922000169754028\n"
          ]
        }
      ]
    },
    {
      "cell_type": "markdown",
      "source": [
        "# Fashion MNIST"
      ],
      "metadata": {
        "id": "-V40ZbZhXlE2"
      }
    },
    {
      "cell_type": "code",
      "source": [
        "# Model / data parameters\n",
        "num_classes = 10\n",
        "input_shape = (28, 28, 1)\n",
        "\n",
        "# Load the data and split it between train and test sets\n",
        "(fx_train, fy_train), (fx_test, fy_test) = keras.datasets.fashion_mnist.load_data()\n",
        "\n",
        "# Scale images to the [0, 1] range\n",
        "fx_train = fx_train.astype(\"float32\") / 255\n",
        "fx_test = fx_test.astype(\"float32\") / 255\n",
        "# Make sure images have shape (28, 28, 1)\n",
        "fx_train = np.expand_dims(fx_train, -1)\n",
        "fx_test = np.expand_dims(fx_test, -1)\n",
        "print(f\"{fx_train.shape=}\")\n",
        "print(fx_train.shape[0], \"train samples\")\n",
        "print(fx_test.shape[0], \"test samples\")\n",
        "\n",
        "\n",
        "# convert class vectors to binary class matrices\n",
        "fy_train = keras.utils.to_categorical(fy_train, num_classes)\n",
        "fy_test = keras.utils.to_categorical(fy_test, num_classes)"
      ],
      "metadata": {
        "colab": {
          "base_uri": "https://localhost:8080/"
        },
        "id": "wye2NLw2Xpi2",
        "outputId": "dfcf1b62-95f8-4c59-f170-fc06bf54ebb6"
      },
      "execution_count": null,
      "outputs": [
        {
          "output_type": "stream",
          "name": "stdout",
          "text": [
            "fx_train.shape=(60000, 28, 28, 1)\n",
            "60000 train samples\n",
            "10000 test samples\n"
          ]
        }
      ]
    },
    {
      "cell_type": "code",
      "source": [
        "model = keras.Sequential(\n",
        "    [\n",
        "        keras.Input(shape=input_shape),\n",
        "        layers.Conv2D(32, kernel_size=(3, 3), activation=\"relu\"),\n",
        "        layers.MaxPooling2D(pool_size=(2, 2)),\n",
        "        layers.Conv2D(64, kernel_size=(3, 3), activation=\"relu\"),\n",
        "        layers.MaxPooling2D(pool_size=(2, 2)),\n",
        "        layers.Flatten(),\n",
        "        layers.Dropout(0.5),\n",
        "        layers.Dense(num_classes, activation=\"softmax\"),\n",
        "    ]\n",
        ")\n",
        "\n",
        "model.summary()"
      ],
      "metadata": {
        "colab": {
          "base_uri": "https://localhost:8080/"
        },
        "id": "ARSHqCrHc0Vu",
        "outputId": "96aaf83b-9ff4-4e44-f49d-2bf5100e7aff"
      },
      "execution_count": null,
      "outputs": [
        {
          "output_type": "stream",
          "name": "stdout",
          "text": [
            "Model: \"sequential\"\n",
            "_________________________________________________________________\n",
            " Layer (type)                Output Shape              Param #   \n",
            "=================================================================\n",
            " conv2d (Conv2D)             (None, 26, 26, 32)        320       \n",
            "                                                                 \n",
            " max_pooling2d (MaxPooling2D  (None, 13, 13, 32)       0         \n",
            " )                                                               \n",
            "                                                                 \n",
            " conv2d_1 (Conv2D)           (None, 11, 11, 64)        18496     \n",
            "                                                                 \n",
            " max_pooling2d_1 (MaxPooling  (None, 5, 5, 64)         0         \n",
            " 2D)                                                             \n",
            "                                                                 \n",
            " flatten (Flatten)           (None, 1600)              0         \n",
            "                                                                 \n",
            " dropout (Dropout)           (None, 1600)              0         \n",
            "                                                                 \n",
            " dense (Dense)               (None, 10)                16010     \n",
            "                                                                 \n",
            "=================================================================\n",
            "Total params: 34,826\n",
            "Trainable params: 34,826\n",
            "Non-trainable params: 0\n",
            "_________________________________________________________________\n"
          ]
        }
      ]
    },
    {
      "cell_type": "code",
      "source": [
        "batch_size = 128\n",
        "epochs = 15\n",
        "\n",
        "model.compile(loss=\"categorical_crossentropy\", optimizer=\"adam\", metrics=[\"accuracy\"])\n",
        "\n",
        "model.fit(fx_train, fy_train, batch_size=batch_size, epochs=epochs, validation_split=0.1)"
      ],
      "metadata": {
        "colab": {
          "base_uri": "https://localhost:8080/"
        },
        "id": "8RADOeljdqYT",
        "outputId": "3185a51c-a25c-4b93-c5e9-afd67089e4ab"
      },
      "execution_count": null,
      "outputs": [
        {
          "output_type": "stream",
          "name": "stdout",
          "text": [
            "Epoch 1/15\n",
            "422/422 [==============================] - 15s 7ms/step - loss: 0.6957 - accuracy: 0.7511 - val_loss: 0.4440 - val_accuracy: 0.8382\n",
            "Epoch 2/15\n",
            "422/422 [==============================] - 2s 5ms/step - loss: 0.4502 - accuracy: 0.8396 - val_loss: 0.3763 - val_accuracy: 0.8657\n",
            "Epoch 3/15\n",
            "422/422 [==============================] - 2s 5ms/step - loss: 0.4020 - accuracy: 0.8579 - val_loss: 0.3490 - val_accuracy: 0.8733\n",
            "Epoch 4/15\n",
            "422/422 [==============================] - 2s 5ms/step - loss: 0.3729 - accuracy: 0.8666 - val_loss: 0.3563 - val_accuracy: 0.8652\n",
            "Epoch 5/15\n",
            "422/422 [==============================] - 2s 5ms/step - loss: 0.3531 - accuracy: 0.8728 - val_loss: 0.3140 - val_accuracy: 0.8838\n",
            "Epoch 6/15\n",
            "422/422 [==============================] - 2s 6ms/step - loss: 0.3358 - accuracy: 0.8780 - val_loss: 0.3058 - val_accuracy: 0.8895\n",
            "Epoch 7/15\n",
            "422/422 [==============================] - 2s 5ms/step - loss: 0.3215 - accuracy: 0.8844 - val_loss: 0.2918 - val_accuracy: 0.8908\n",
            "Epoch 8/15\n",
            "422/422 [==============================] - 2s 5ms/step - loss: 0.3118 - accuracy: 0.8890 - val_loss: 0.2825 - val_accuracy: 0.8968\n",
            "Epoch 9/15\n",
            "422/422 [==============================] - 2s 5ms/step - loss: 0.3049 - accuracy: 0.8893 - val_loss: 0.2735 - val_accuracy: 0.9022\n",
            "Epoch 10/15\n",
            "422/422 [==============================] - 2s 5ms/step - loss: 0.2955 - accuracy: 0.8936 - val_loss: 0.2817 - val_accuracy: 0.8977\n",
            "Epoch 11/15\n",
            "422/422 [==============================] - 2s 5ms/step - loss: 0.2894 - accuracy: 0.8948 - val_loss: 0.2697 - val_accuracy: 0.9013\n",
            "Epoch 12/15\n",
            "422/422 [==============================] - 3s 6ms/step - loss: 0.2806 - accuracy: 0.8977 - val_loss: 0.2749 - val_accuracy: 0.8978\n",
            "Epoch 13/15\n",
            "422/422 [==============================] - 2s 5ms/step - loss: 0.2783 - accuracy: 0.8984 - val_loss: 0.2649 - val_accuracy: 0.9045\n",
            "Epoch 14/15\n",
            "422/422 [==============================] - 2s 5ms/step - loss: 0.2745 - accuracy: 0.8999 - val_loss: 0.2666 - val_accuracy: 0.9038\n",
            "Epoch 15/15\n",
            "422/422 [==============================] - 2s 5ms/step - loss: 0.2670 - accuracy: 0.9026 - val_loss: 0.2564 - val_accuracy: 0.9060\n"
          ]
        },
        {
          "output_type": "execute_result",
          "data": {
            "text/plain": [
              "<keras.callbacks.History at 0x7f8df48a49d0>"
            ]
          },
          "metadata": {},
          "execution_count": 10
        }
      ]
    },
    {
      "cell_type": "code",
      "source": [
        "score = model.evaluate(fx_test, fy_test, verbose=0)\n",
        "print(\"Test loss:\", score[0])\n",
        "print(\"Test accuracy:\", score[1])"
      ],
      "metadata": {
        "colab": {
          "base_uri": "https://localhost:8080/"
        },
        "id": "gcwvL5SldhT4",
        "outputId": "4c45a5c5-816a-45e8-9b8c-92dd8d82a782"
      },
      "execution_count": null,
      "outputs": [
        {
          "output_type": "stream",
          "name": "stdout",
          "text": [
            "Test loss: 0.26785513758659363\n",
            "Test accuracy: 0.9043999910354614\n"
          ]
        }
      ]
    },
    {
      "cell_type": "markdown",
      "source": [
        "# CIFAR-10"
      ],
      "metadata": {
        "id": "vw-fyit2e5BK"
      }
    },
    {
      "cell_type": "code",
      "source": [
        "# Model / data parameters\n",
        "num_classes = 10\n",
        "input_shape = (32, 32, 3)\n",
        "\n",
        "# Load the data and split it between train and test sets\n",
        "(cx_train, cy_train), (cx_test, cy_test) = keras.datasets.cifar10.load_data()\n",
        "\n",
        "# Scale images to the [0, 1] range\n",
        "cx_train = cx_train.astype(\"float32\") / 255\n",
        "cx_test = cx_test.astype(\"float32\") / 255\n",
        "# Make sure images have shape (32, 32, 3)\n",
        "cx_train = np.expand_dims(cx_train, -1)\n",
        "cx_test = np.expand_dims(cx_test, -1)\n",
        "print(f\"{cx_train.shape=}\")\n",
        "print(cx_train.shape[0], \"train samples\")\n",
        "print(cx_test.shape[0], \"test samples\")\n",
        "\n",
        "\n",
        "# convert class vectors to binary class matrices\n",
        "cy_train = keras.utils.to_categorical(cy_train, num_classes)\n",
        "cy_test = keras.utils.to_categorical(cy_test, num_classes)"
      ],
      "metadata": {
        "colab": {
          "base_uri": "https://localhost:8080/"
        },
        "id": "AUoJCBRle6zZ",
        "outputId": "4c6ec90f-4b72-4239-8cd8-47fb4715795a"
      },
      "execution_count": null,
      "outputs": [
        {
          "output_type": "stream",
          "name": "stdout",
          "text": [
            "cx_train.shape=(50000, 32, 32, 3, 1)\n",
            "50000 train samples\n",
            "10000 test samples\n"
          ]
        }
      ]
    },
    {
      "cell_type": "code",
      "source": [
        "model = keras.Sequential(\n",
        "    [\n",
        "        keras.Input(shape=input_shape),\n",
        "        layers.Conv2D(32, kernel_size=(3, 3), activation=\"relu\"),\n",
        "        layers.MaxPooling2D(pool_size=(2, 2)),\n",
        "        layers.Conv2D(64, kernel_size=(3, 3), activation=\"relu\"),\n",
        "        layers.MaxPooling2D(pool_size=(2, 2)),\n",
        "        layers.Conv2D(128, kernel_size=(3, 3), activation=\"relu\"),\n",
        "        layers.MaxPooling2D(pool_size=(2, 2)),\n",
        "        layers.Flatten(),\n",
        "        layers.Dropout(0.5),\n",
        "        layers.Dense(num_classes, activation=\"softmax\"),\n",
        "    ]\n",
        ")\n",
        "\n",
        "model.summary()"
      ],
      "metadata": {
        "colab": {
          "base_uri": "https://localhost:8080/"
        },
        "id": "BNkCf61ffXBt",
        "outputId": "c52a93b0-f02b-40e7-8cf8-97df1754abcc"
      },
      "execution_count": null,
      "outputs": [
        {
          "output_type": "stream",
          "name": "stdout",
          "text": [
            "Model: \"sequential_11\"\n",
            "_________________________________________________________________\n",
            " Layer (type)                Output Shape              Param #   \n",
            "=================================================================\n",
            " conv2d_38 (Conv2D)          (None, 30, 30, 32)        896       \n",
            "                                                                 \n",
            " max_pooling2d_34 (MaxPoolin  (None, 15, 15, 32)       0         \n",
            " g2D)                                                            \n",
            "                                                                 \n",
            " conv2d_39 (Conv2D)          (None, 13, 13, 64)        18496     \n",
            "                                                                 \n",
            " max_pooling2d_35 (MaxPoolin  (None, 6, 6, 64)         0         \n",
            " g2D)                                                            \n",
            "                                                                 \n",
            " conv2d_40 (Conv2D)          (None, 4, 4, 128)         73856     \n",
            "                                                                 \n",
            " max_pooling2d_36 (MaxPoolin  (None, 2, 2, 128)        0         \n",
            " g2D)                                                            \n",
            "                                                                 \n",
            " flatten_13 (Flatten)        (None, 512)               0         \n",
            "                                                                 \n",
            " dropout_13 (Dropout)        (None, 512)               0         \n",
            "                                                                 \n",
            " dense_26 (Dense)            (None, 10)                5130      \n",
            "                                                                 \n",
            "=================================================================\n",
            "Total params: 98,378\n",
            "Trainable params: 98,378\n",
            "Non-trainable params: 0\n",
            "_________________________________________________________________\n"
          ]
        }
      ]
    },
    {
      "cell_type": "code",
      "source": [
        "batch_size = 128\n",
        "epochs = 15\n",
        "\n",
        "model.compile(loss=\"categorical_crossentropy\", optimizer=\"adam\", metrics=[\"accuracy\"])\n",
        "\n",
        "model.fit(cx_train, cy_train, batch_size=batch_size, epochs=epochs, validation_split=0.1)"
      ],
      "metadata": {
        "colab": {
          "base_uri": "https://localhost:8080/"
        },
        "id": "9XlCJawAfc2U",
        "outputId": "240516d7-5707-4e63-8d29-abc4dc323ba5"
      },
      "execution_count": null,
      "outputs": [
        {
          "output_type": "stream",
          "name": "stdout",
          "text": [
            "Epoch 1/15\n",
            "352/352 [==============================] - 4s 7ms/step - loss: 1.7641 - accuracy: 0.3515 - val_loss: 1.4881 - val_accuracy: 0.4680\n",
            "Epoch 2/15\n",
            "352/352 [==============================] - 2s 7ms/step - loss: 1.4480 - accuracy: 0.4754 - val_loss: 1.2993 - val_accuracy: 0.5348\n",
            "Epoch 3/15\n",
            "352/352 [==============================] - 2s 7ms/step - loss: 1.3170 - accuracy: 0.5271 - val_loss: 1.1702 - val_accuracy: 0.5868\n",
            "Epoch 4/15\n",
            "352/352 [==============================] - 2s 6ms/step - loss: 1.2393 - accuracy: 0.5604 - val_loss: 1.1091 - val_accuracy: 0.6084\n",
            "Epoch 5/15\n",
            "352/352 [==============================] - 2s 6ms/step - loss: 1.1657 - accuracy: 0.5909 - val_loss: 1.0421 - val_accuracy: 0.6400\n",
            "Epoch 6/15\n",
            "352/352 [==============================] - 2s 6ms/step - loss: 1.1183 - accuracy: 0.6048 - val_loss: 1.0043 - val_accuracy: 0.6516\n",
            "Epoch 7/15\n",
            "352/352 [==============================] - 2s 6ms/step - loss: 1.0684 - accuracy: 0.6244 - val_loss: 0.9630 - val_accuracy: 0.6616\n",
            "Epoch 8/15\n",
            "352/352 [==============================] - 3s 7ms/step - loss: 1.0387 - accuracy: 0.6346 - val_loss: 0.9347 - val_accuracy: 0.6778\n",
            "Epoch 9/15\n",
            "352/352 [==============================] - 2s 6ms/step - loss: 1.0023 - accuracy: 0.6489 - val_loss: 0.9007 - val_accuracy: 0.6872\n",
            "Epoch 10/15\n",
            "352/352 [==============================] - 2s 6ms/step - loss: 0.9768 - accuracy: 0.6583 - val_loss: 0.9142 - val_accuracy: 0.6834\n",
            "Epoch 11/15\n",
            "352/352 [==============================] - 2s 6ms/step - loss: 0.9453 - accuracy: 0.6687 - val_loss: 0.8789 - val_accuracy: 0.7000\n",
            "Epoch 12/15\n",
            "352/352 [==============================] - 2s 6ms/step - loss: 0.9313 - accuracy: 0.6740 - val_loss: 0.8653 - val_accuracy: 0.6982\n",
            "Epoch 13/15\n",
            "352/352 [==============================] - 2s 7ms/step - loss: 0.9120 - accuracy: 0.6800 - val_loss: 0.8771 - val_accuracy: 0.7054\n",
            "Epoch 14/15\n",
            "352/352 [==============================] - 2s 7ms/step - loss: 0.8875 - accuracy: 0.6914 - val_loss: 0.8171 - val_accuracy: 0.7218\n",
            "Epoch 15/15\n",
            "352/352 [==============================] - 2s 6ms/step - loss: 0.8709 - accuracy: 0.6981 - val_loss: 0.8338 - val_accuracy: 0.7128\n"
          ]
        },
        {
          "output_type": "execute_result",
          "data": {
            "text/plain": [
              "<keras.callbacks.History at 0x7f8d6a5f6280>"
            ]
          },
          "metadata": {},
          "execution_count": 44
        }
      ]
    },
    {
      "cell_type": "code",
      "source": [
        "score = model.evaluate(cx_test, cy_test, verbose=0)\n",
        "print(\"Test loss:\", score[0])\n",
        "print(\"Test accuracy:\", score[1])"
      ],
      "metadata": {
        "colab": {
          "base_uri": "https://localhost:8080/"
        },
        "id": "tKlHMA4-gVYg",
        "outputId": "5f344779-fc8c-4650-b87c-7a52a85dae19"
      },
      "execution_count": null,
      "outputs": [
        {
          "output_type": "stream",
          "name": "stdout",
          "text": [
            "Test loss: 0.855189859867096\n",
            "Test accuracy: 0.7105000019073486\n"
          ]
        }
      ]
    }
  ]
}